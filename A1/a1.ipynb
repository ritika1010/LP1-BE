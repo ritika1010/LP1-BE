{
  "nbformat": 4,
  "nbformat_minor": 0,
  "metadata": {
    "accelerator": "GPU",
    "colab": {
      "name": "a1.ipynb",
      "provenance": [],
      "collapsed_sections": []
    },
    "kernelspec": {
      "display_name": "Python 3",
      "language": "python",
      "name": "python3"
    },
    "language_info": {
      "codemirror_mode": {
        "name": "ipython",
        "version": 3
      },
      "file_extension": ".py",
      "mimetype": "text/x-python",
      "name": "python",
      "nbconvert_exporter": "python",
      "pygments_lexer": "ipython3",
      "version": "3.6.3"
    }
  },
  "cells": [
    {
      "cell_type": "code",
      "metadata": {
        "id": "1O4mzLmJfTwq",
        "colab": {
          "base_uri": "https://localhost:8080/"
        },
        "outputId": "ead5667b-13a5-438e-b278-3d80773d0894"
      },
      "source": [
        "!nvcc --version"
      ],
      "execution_count": 8,
      "outputs": [
        {
          "output_type": "stream",
          "text": [
            "nvcc: NVIDIA (R) Cuda compiler driver\n",
            "Copyright (c) 2005-2020 NVIDIA Corporation\n",
            "Built on Wed_Jul_22_19:09:09_PDT_2020\n",
            "Cuda compilation tools, release 11.0, V11.0.221\n",
            "Build cuda_11.0_bu.TC445_37.28845127_0\n"
          ],
          "name": "stdout"
        }
      ]
    },
    {
      "cell_type": "code",
      "metadata": {
        "id": "Jz1s3_5xoond"
      },
      "source": [
        "code = \"\"\"\n",
        "#include<iostream>\n",
        "#include<math.h>\n",
        "#include<cuda_runtime.h>\n",
        "#include<cstdlib>\n",
        "\n",
        "\n",
        "#define n 8\n",
        "\n",
        "using namespace std;\n",
        "\n",
        "__global__ void minimum(int *input) {\n",
        "    int tid = threadIdx.x;\n",
        "    int step_size = 1;\n",
        "    int number_of_threads = blockDim.x;\n",
        "    \n",
        "    //printf(\"No of threads = %d\", number_of_threads);\n",
        "    \n",
        "    while(number_of_threads>0) {\n",
        "        if(tid < number_of_threads) {\n",
        "            int first = tid*step_size*2;\n",
        "            int second = first + step_size;\n",
        "            if(input[second] < input[first])\n",
        "              input[first] = input[second];\n",
        "        }\n",
        "        step_size <<= 1;\n",
        "        number_of_threads >>= 1;\n",
        "    }\n",
        "}\n",
        "\n",
        "__global__ void maximum(int *input) {\n",
        "    int tid = threadIdx.x;\n",
        "    int step_size = 1;\n",
        "    int number_of_threads = blockDim.x;\n",
        "    \n",
        "    while(number_of_threads>0) {\n",
        "        if(tid < number_of_threads) {\n",
        "            int first = tid*step_size*2;\n",
        "            int second = first + step_size;\n",
        "            if(input[second] > input[first])\n",
        "              input[first] = input[second];\n",
        "        }\n",
        "        step_size <<= 1;\n",
        "        number_of_threads >>= 1;\n",
        "    }\n",
        "}\n",
        "\n",
        "__global__ void sum(int *input) {\n",
        "    const int tid = threadIdx.x;\n",
        "    int step_size = 1;\n",
        "    int number_of_threads = blockDim.x;\n",
        "    \n",
        "    while(number_of_threads > 0) {\n",
        "        if(tid < number_of_threads) {\n",
        "            int first = tid * step_size * 2;\n",
        "            int second = first + step_size;\n",
        "            \n",
        "            input[first] += input[second];\n",
        "        }\n",
        "        step_size <<= 1;\n",
        "        number_of_threads >>= 1;\n",
        "       \n",
        "    }\n",
        "}\n",
        "\n",
        "__global__ void mean_diff_sq(float *input, float mean) {\n",
        "    input[threadIdx.x] -= mean;\n",
        "    input[threadIdx.x] *= input[threadIdx.x];\n",
        "}\n",
        "\n",
        "__global__ void sum_floats(float *input) {\n",
        "    int tid = threadIdx.x;\n",
        "    int step_size = 1;\n",
        "    int number_of_threads = blockDim.x;\n",
        "    \n",
        "    while(number_of_threads > 0) {\n",
        "        if(tid < number_of_threads) {\n",
        "            int first = tid * step_size * 2;\n",
        "            int second = first + step_size;\n",
        "            \n",
        "            input[first] += input[second];\n",
        "        }\n",
        "        step_size <<= 1;\n",
        "        number_of_threads >>= 1;\n",
        "       \n",
        "    }\n",
        "}\n",
        "\n",
        "void copy_int_to_float(float *dest, int *src, int size){\n",
        "    for(int i=0; i<size; i++)\n",
        "        dest[i] = float(src[i]);\n",
        "}\n",
        "\n",
        "void random_ints(int *input, int size) {\n",
        "    for(int i=0; i<size; i++)  {\n",
        "        input[i] = rand()%100;\n",
        "        cout<<input[i]<<\"  \";   \n",
        "    }\n",
        "    cout<<endl;\n",
        "\n",
        "}\n",
        "\n",
        "int main() {\n",
        "    //int n=8;\n",
        "    int size = n*sizeof(int); //calculate no. of bytes for array\n",
        "        \n",
        "    int *arr;\n",
        "    int *arr_d, result;\n",
        "   \n",
        "    arr = (int *)malloc(size);\n",
        "    random_ints(arr, n);\n",
        "    \n",
        "    cudaMalloc((void **)&arr_d, size);\n",
        "    \n",
        "    //MIN\n",
        "    cudaMemcpy(arr_d, arr, size, cudaMemcpyHostToDevice);\n",
        "    \n",
        "    minimum<<<1,n/2>>>(arr_d);\n",
        "    \n",
        "    cudaMemcpy(&result, arr_d, sizeof(int), cudaMemcpyDeviceToHost);\n",
        "    \n",
        "    cout<<\"The minimum element is \"<<result<<endl;\n",
        "      \n",
        "       \n",
        "    //MAX\n",
        "    cudaMemcpy(arr_d, arr, size, cudaMemcpyHostToDevice);\n",
        "    \n",
        "    maximum<<<1,n/2>>>(arr_d);\n",
        "    \n",
        "    cudaMemcpy(&result, arr_d, sizeof(int), cudaMemcpyDeviceToHost);\n",
        "    \n",
        "    cout<<\"The maximum element is \"<<result<<endl;\n",
        "    \n",
        "    //SUM\n",
        "    cudaMemcpy(arr_d, arr, size, cudaMemcpyHostToDevice);\n",
        "    \n",
        "    sum<<<1,n/2>>>(arr_d);\n",
        "    \n",
        "    cudaMemcpy(&result, arr_d, sizeof(int), cudaMemcpyDeviceToHost);\n",
        "    \n",
        "    cout<<\"The sum is \"<<result<<endl;\n",
        "    \n",
        "    //AVERAGE\n",
        "    \n",
        "    float mean = float(result)/n;\n",
        "    cout<<\"The mean is \"<<mean<<endl;\n",
        "    \n",
        "    //STANDARD DEVIATION\n",
        "    float *arr_float;\n",
        "    float *arr_std, stdValue;\n",
        "    \n",
        "    arr_float = (float *)malloc(n*sizeof(float));\n",
        "    cudaMalloc((void **)&arr_std, n*sizeof(float));\n",
        "    \n",
        "    copy_int_to_float(arr_float, arr, n);\n",
        "    \n",
        "    cudaMemcpy(arr_std, arr_float, n*sizeof(float), cudaMemcpyHostToDevice);\n",
        "    \n",
        "    mean_diff_sq <<<1,n>>>(arr_std, mean);\n",
        "    sum_floats<<<1,n/2>>>(arr_std);\n",
        "    \n",
        "    cudaMemcpy(&stdValue, arr_std, sizeof(float), cudaMemcpyDeviceToHost);\n",
        "    \n",
        "    \n",
        "    stdValue = stdValue / n;\n",
        "    cout<<\"The variance is \"<<stdValue<<endl;\n",
        "    stdValue = sqrt(stdValue);\n",
        "    \n",
        "    cout<<\"The standard deviation is \"<<stdValue<<endl;\n",
        "    \n",
        "    cudaFree(arr_d);\n",
        "           \n",
        "    return 0;\n",
        "}\n",
        "\"\"\""
      ],
      "execution_count": 9,
      "outputs": []
    },
    {
      "cell_type": "code",
      "metadata": {
        "id": "GzR8W2FBo9KA"
      },
      "source": [
        "text_file = open(\"ass1.cu\", \"w\")\n",
        "text_file.write(code)\n",
        "text_file.close()"
      ],
      "execution_count": 10,
      "outputs": []
    },
    {
      "cell_type": "code",
      "metadata": {
        "id": "wZISxfLkpFV_"
      },
      "source": [
        "!nvcc ass1.cu"
      ],
      "execution_count": 11,
      "outputs": []
    },
    {
      "cell_type": "code",
      "metadata": {
        "id": "lA3ltwJcpJQf",
        "colab": {
          "base_uri": "https://localhost:8080/"
        },
        "outputId": "5ade0c0b-45f4-4287-ad15-e5aac289e7a0"
      },
      "source": [
        "!./a.out"
      ],
      "execution_count": 12,
      "outputs": [
        {
          "output_type": "stream",
          "text": [
            "83  86  77  15  93  35  86  92  \n",
            "The minimum element is 15\n",
            "The maximum element is 93\n",
            "The sum is 567\n",
            "The mean is 70.875\n",
            "The variance is 748.359\n",
            "The standard deviation is 27.3562\n"
          ],
          "name": "stdout"
        }
      ]
    },
    {
      "cell_type": "code",
      "metadata": {
        "id": "J3xpfvdcr1S4",
        "colab": {
          "base_uri": "https://localhost:8080/"
        },
        "outputId": "f0ecb3fd-4413-4a38-bcaa-afa1097a1cf7"
      },
      "source": [
        "!nvprof ./a.out"
      ],
      "execution_count": 13,
      "outputs": [
        {
          "output_type": "stream",
          "text": [
            "83  86  77  15  93  35  86  92  \n",
            "==190== NVPROF is profiling process 190, command: ./a.out\n",
            "The minimum element is 15\n",
            "The maximum element is 93\n",
            "The sum is 567\n",
            "The mean is 70.875\n",
            "The variance is 748.359\n",
            "The standard deviation is 27.3562\n",
            "==190== Profiling application: ./a.out\n",
            "==190== Profiling result:\n",
            "            Type  Time(%)      Time     Calls       Avg       Min       Max  Name\n",
            " GPU activities:   22.85%  6.6240us         4  1.6560us  1.6320us  1.6640us  [CUDA memcpy DtoH]\n",
            "                   20.86%  6.0480us         4  1.5120us  1.3760us  1.8880us  [CUDA memcpy HtoD]\n",
            "                   13.13%  3.8080us         1  3.8080us  3.8080us  3.8080us  minimum(int*)\n",
            "                   12.36%  3.5840us         1  3.5840us  3.5840us  3.5840us  maximum(int*)\n",
            "                   10.93%  3.1680us         1  3.1680us  3.1680us  3.1680us  sum_floats(float*)\n",
            "                   10.93%  3.1680us         1  3.1680us  3.1680us  3.1680us  sum(int*)\n",
            "                    8.94%  2.5920us         1  2.5920us  2.5920us  2.5920us  mean_diff_sq(float*, float)\n",
            "      API calls:   99.58%  179.18ms         2  89.589ms  9.2960us  179.17ms  cudaMalloc\n",
            "                    0.19%  347.84us         1  347.84us  347.84us  347.84us  cuDeviceTotalMem\n",
            "                    0.08%  145.84us       101  1.4430us     137ns  61.901us  cuDeviceGetAttribute\n",
            "                    0.06%  109.46us         8  13.682us  7.0990us  20.659us  cudaMemcpy\n",
            "                    0.04%  74.854us         5  14.970us  5.9150us  28.380us  cudaLaunchKernel\n",
            "                    0.02%  36.037us         1  36.037us  36.037us  36.037us  cuDeviceGetName\n",
            "                    0.01%  25.444us         1  25.444us  25.444us  25.444us  cudaFree\n",
            "                    0.00%  5.3170us         1  5.3170us  5.3170us  5.3170us  cuDeviceGetPCIBusId\n",
            "                    0.00%  1.8040us         3     601ns     199ns  1.0850us  cuDeviceGetCount\n",
            "                    0.00%  1.4040us         2     702ns     451ns     953ns  cuDeviceGet\n",
            "                    0.00%     306ns         1     306ns     306ns     306ns  cuDeviceGetUuid\n"
          ],
          "name": "stdout"
        }
      ]
    },
    {
      "cell_type": "code",
      "metadata": {
        "id": "oMjIfriIcSuH"
      },
      "source": [
        ""
      ],
      "execution_count": 13,
      "outputs": []
    }
  ]
}