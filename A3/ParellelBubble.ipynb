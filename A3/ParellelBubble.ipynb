{
  "nbformat": 4,
  "nbformat_minor": 0,
  "metadata": {
    "colab": {
      "name": "ParellelBubble.ipynb",
      "provenance": []
    },
    "kernelspec": {
      "name": "python3",
      "display_name": "Python 3"
    }
  },
  "cells": [
    {
      "cell_type": "code",
      "metadata": {
        "id": "VqOb1mOizKDo",
        "colab_type": "code",
        "colab": {}
      },
      "source": [
        "code = \"\"\"\n",
        "#include<omp.h>\n",
        "#include<iostream>\n",
        "#include<bits/stdc++.h>\n",
        "using namespace std;\n",
        "\n",
        "void swap(int *num1, int *num2) {\n",
        "    int temp = *num1;\n",
        "    *num1 = *num2;\n",
        "    *num2 = temp;\n",
        "}\n",
        "\n",
        "int main() {\n",
        "    int n = 10;\n",
        "    int a[10];\n",
        "    \n",
        "    omp_set_num_threads(2);\n",
        "    \n",
        "    for(int i=0; i<n; i++) {\n",
        "        a[i] = rand()% 100;\n",
        "    }\n",
        "    \n",
        "    for(int i=0; i<n; i++) \n",
        "        cout<<\"  \"<<a[i];\n",
        "    cout<<endl;\n",
        "    \n",
        "    int i=0, j=0;\n",
        "    int first=0;\n",
        "    double start, end;\n",
        "    \n",
        "    start = omp_get_wtime();\n",
        "    for(i=0; i<n-1; i++) {\n",
        "        first = i%2;\n",
        "        #pragma omp parallel for\n",
        "        for(j=first; j<n-1; j++) {\n",
        "            if(a[j] > a[j+1])\n",
        "              swap(&a[j], &a[j+1]);\n",
        "        }\n",
        "    }\n",
        "    \n",
        "    end = omp_get_wtime();\n",
        "    cout<<\"Result(parallel) : \"<<endl;\n",
        "    for(i=0; i<n; i++)\n",
        "      cout<<\"  \"<<a[i];\n",
        "    cout<<endl;\n",
        "    \n",
        "    cout<<\"Time parallel = \"<<(end-start)<<endl;\n",
        "    \n",
        "    return 0;\n",
        "    \n",
        "}\n",
        "\"\"\""
      ],
      "execution_count": 21,
      "outputs": []
    },
    {
      "cell_type": "code",
      "metadata": {
        "id": "0Bor2m7UzZ-t",
        "colab_type": "code",
        "colab": {}
      },
      "source": [
        "text_file = open(\"/content/code.cpp\", \"w\")\n",
        "text_file.write(code)\n",
        "text_file.close()"
      ],
      "execution_count": 22,
      "outputs": []
    },
    {
      "cell_type": "code",
      "metadata": {
        "id": "7klZMJKhzbC3",
        "colab_type": "code",
        "colab": {}
      },
      "source": [
        "!g++ -fopenmp code.cpp"
      ],
      "execution_count": 23,
      "outputs": []
    },
    {
      "cell_type": "code",
      "metadata": {
        "id": "0m6rnhlVzbZr",
        "colab_type": "code",
        "colab": {
          "base_uri": "https://localhost:8080/",
          "height": 88
        },
        "outputId": "2a52f00c-94d4-4628-df1c-d22d5a152fd0"
      },
      "source": [
        "!./a.out\n"
      ],
      "execution_count": 24,
      "outputs": [
        {
          "output_type": "stream",
          "text": [
            "  83  86  77  15  93  35  86  92  49  21\n",
            "Result(parallel) : \n",
            "  15  21  35  49  77  83  86  86  92  93\n",
            "Time parallel = 0.000110969\n"
          ],
          "name": "stdout"
        }
      ]
    }
  ]
}