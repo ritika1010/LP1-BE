{
  "nbformat": 4,
  "nbformat_minor": 0,
  "metadata": {
    "colab": {
      "name": "a3.ipynb",
      "provenance": []
    },
    "kernelspec": {
      "name": "python3",
      "display_name": "Python 3"
    },
    "language_info": {
      "name": "python"
    },
    "accelerator": "GPU"
  },
  "cells": [
    {
      "cell_type": "markdown",
      "metadata": {
        "id": "UWWDnETlm9sq"
      },
      "source": [
        "BUBBLE SORT PARELLEL"
      ]
    },
    {
      "cell_type": "code",
      "metadata": {
        "id": "ESxG8XAtmp6K"
      },
      "source": [
        ""
      ],
      "execution_count": null,
      "outputs": []
    },
    {
      "cell_type": "code",
      "metadata": {
        "id": "VqOb1mOizKDo"
      },
      "source": [
        "code = \"\"\"\n",
        "#include<omp.h>\n",
        "#include<iostream>\n",
        "#include<bits/stdc++.h>\n",
        "using namespace std;\n",
        "\n",
        "void swap(int *num1, int *num2) {\n",
        "    int temp = *num1;\n",
        "    *num1 = *num2;\n",
        "    *num2 = temp;\n",
        "}\n",
        "\n",
        "int main() {\n",
        "    int n = 10;\n",
        "    int a[10];\n",
        "    \n",
        "    omp_set_num_threads(2);\n",
        "    \n",
        "    for(int i=0; i<n; i++) {\n",
        "        a[i] = rand()% 100;\n",
        "    }\n",
        "    \n",
        "    for(int i=0; i<n; i++) \n",
        "        cout<<\"  \"<<a[i];\n",
        "    cout<<endl;\n",
        "    \n",
        "    int i=0, j=0;\n",
        "    int first=0;\n",
        "    double start, end;\n",
        "    \n",
        "    start = omp_get_wtime();\n",
        "    for(i=0; i<n-1; i++) {\n",
        "        first = i%2;\n",
        "        #pragma omp parallel for\n",
        "        for(j=first; j<n-1; j++) {\n",
        "            if(a[j] > a[j+1])\n",
        "              swap(&a[j], &a[j+1]);\n",
        "        }\n",
        "    }\n",
        "    \n",
        "    end = omp_get_wtime();\n",
        "    cout<<\"Result(parallel) : \"<<endl;\n",
        "    for(i=0; i<n; i++)\n",
        "      cout<<\"  \"<<a[i];\n",
        "    cout<<endl;\n",
        "    \n",
        "    cout<<\"Time parallel = \"<<(end-start)<<endl;\n",
        "    \n",
        "    return 0;\n",
        "    \n",
        "}\n",
        "\"\"\""
      ],
      "execution_count": 1,
      "outputs": []
    },
    {
      "cell_type": "code",
      "metadata": {
        "id": "0Bor2m7UzZ-t"
      },
      "source": [
        "text_file = open(\"/content/code.cpp\", \"w\")\n",
        "text_file.write(code)\n",
        "text_file.close()"
      ],
      "execution_count": 2,
      "outputs": []
    },
    {
      "cell_type": "code",
      "metadata": {
        "id": "7klZMJKhzbC3"
      },
      "source": [
        "!g++ -fopenmp code.cpp"
      ],
      "execution_count": 3,
      "outputs": []
    },
    {
      "cell_type": "code",
      "metadata": {
        "id": "0m6rnhlVzbZr",
        "colab": {
          "base_uri": "https://localhost:8080/"
        },
        "outputId": "7b1c4d2b-0c9a-43c0-92a3-eb2ea316b4fd"
      },
      "source": [
        "!./a.out\n"
      ],
      "execution_count": 4,
      "outputs": [
        {
          "output_type": "stream",
          "text": [
            "  83  86  77  15  93  35  86  92  49  21\n",
            "Result(parallel) : \n",
            "  15  21  35  49  77  83  86  86  92  93\n",
            "Time parallel = 7.2785e-05\n"
          ],
          "name": "stdout"
        }
      ]
    },
    {
      "cell_type": "markdown",
      "metadata": {
        "id": "6EJN93iNm6-X"
      },
      "source": [
        "MERGE SORT PARELLEL"
      ]
    },
    {
      "cell_type": "code",
      "metadata": {
        "id": "GF-mataHm5UR"
      },
      "source": [
        ""
      ],
      "execution_count": 4,
      "outputs": []
    },
    {
      "cell_type": "code",
      "metadata": {
        "id": "XjefUxFU11j5"
      },
      "source": [
        "code = \"\"\"\n",
        "#include<iostream>\n",
        "#include<omp.h>\n",
        "\n",
        "using namespace std;\n",
        "\n",
        "void printArray(int *arr, int size) {\n",
        "    for(int i=0; i<size; i++) {\n",
        "         cout<<arr[i]<<\"  \";\n",
        "    }\n",
        "    cout<<endl;\n",
        "}\n",
        "\n",
        "void merge(int* arr, int start, int mid, int end) {\n",
        "    int len = (end - start) + 1;\n",
        "    int temp[len];\n",
        "    int cur = 0;\n",
        "    \n",
        "    int i = start;\n",
        "    int j = mid + 1;\n",
        "    while(i <= mid && j <= end){\n",
        "        if(arr[i] < arr[j]) {\n",
        "            temp[cur] = arr[i];\n",
        "            cur++;\n",
        "            i++;\n",
        "        }\n",
        "        else {\n",
        "            temp[cur] = arr[j];\n",
        "            cur++;\n",
        "            j++;\n",
        "        }\n",
        "    }\n",
        "    if(i <= mid) {\n",
        "        while(i <= mid) {\n",
        "            temp[cur] = arr[i];\n",
        "            i++;\n",
        "            cur++;\n",
        "        }\n",
        "    }\n",
        "    \n",
        "    else if(j <= end) {\n",
        "        while(j <= end) {\n",
        "            temp[cur] = arr[j];\n",
        "            j++;\n",
        "            cur++;\n",
        "        }\n",
        "    }\n",
        "    \n",
        "    cur = 0;\n",
        "    for(i=start; i<=end; i++) {\n",
        "        arr[i] = temp[cur];\n",
        "        cur++;\n",
        "    }\n",
        "\n",
        "}\n",
        "\n",
        "void mergeSort(int *arr, int start, int end) {\n",
        "    if(start < end) {\n",
        "        int mid = (start+end) / 2;\n",
        "        \n",
        "        #pragma omp parallel sections\n",
        "        {\n",
        "            #pragma omp section\n",
        "            mergeSort(arr, start, mid);\n",
        "            \n",
        "            #pragma omp section\n",
        "            mergeSort(arr, mid+1, end);\n",
        "        }\n",
        "        \n",
        "        merge(arr, start, mid, end);\n",
        "    \n",
        "    }\n",
        "}\n",
        "\n",
        "int main(int argc, char *argv[]) {\n",
        "    int size = 10;\n",
        "    int a[size];\n",
        "    \n",
        "    double start, end;\n",
        "    \n",
        "    omp_set_num_threads(2);\n",
        "    \n",
        "    for(int i=0; i<size; i++) {\n",
        "        a[i] = rand()% 100;\n",
        "    }\n",
        "    \n",
        "    //int a[]= {7,33,5,5,23,111,75,34,77,121,120};\n",
        "    \n",
        "    for(int i=0; i<size; i++) \n",
        "        cout<<\"  \"<<a[i];\n",
        "    cout<<endl;\n",
        "    start = omp_get_wtime();\n",
        "    \n",
        "    mergeSort(a, 0, size-1);\n",
        "    \n",
        "    printArray(a, size);\n",
        "    \n",
        "    end = omp_get_wtime();\n",
        "    \n",
        "    cout<<\"Time parallel = \"<<(end-start)<<endl;\n",
        "    \n",
        "    return 0;\n",
        "}\n",
        "\n",
        "\"\"\"\n"
      ],
      "execution_count": 5,
      "outputs": []
    },
    {
      "cell_type": "code",
      "metadata": {
        "id": "ahjiE1622AQc"
      },
      "source": [
        "text_file = open(\"merge11.cpp\", \"w\")\n",
        "text_file.write(code)\n",
        "text_file.close()"
      ],
      "execution_count": 6,
      "outputs": []
    },
    {
      "cell_type": "code",
      "metadata": {
        "id": "qDltc75o2GWY"
      },
      "source": [
        "!g++ -fopenmp merge11.cpp"
      ],
      "execution_count": 7,
      "outputs": []
    },
    {
      "cell_type": "code",
      "metadata": {
        "id": "TCgvRMnP2HA6",
        "colab": {
          "base_uri": "https://localhost:8080/"
        },
        "outputId": "32f7f2a5-2f02-4604-ee56-a24d69ecaa36"
      },
      "source": [
        "!./a.out"
      ],
      "execution_count": 8,
      "outputs": [
        {
          "output_type": "stream",
          "text": [
            "  83  86  77  15  93  35  86  92  49  21\n",
            "15  21  35  49  77  83  86  86  92  93  \n",
            "Time parallel = 8.3051e-05\n"
          ],
          "name": "stdout"
        }
      ]
    }
  ]
}