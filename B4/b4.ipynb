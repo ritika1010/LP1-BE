{
  "nbformat": 4,
  "nbformat_minor": 0,
  "metadata": {
    "colab": {
      "name": "b4.ipynb",
      "provenance": []
    },
    "kernelspec": {
      "name": "python3",
      "display_name": "Python 3"
    },
    "language_info": {
      "name": "python"
    }
  },
  "cells": [
    {
      "cell_type": "code",
      "metadata": {
        "id": "D-rgxn84_Onk"
      },
      "source": [
        "code='''\n",
        "#include<bits/stdc++.h>\n",
        "using namespace std;\n",
        "\n",
        "int n;\n",
        "bool isSafe(vector<vector<int> >& vv, int row , int col) {\n",
        "\tint i, j;\n",
        "\tfor (int i = 0; i < col; ++i) if (vv[row][i] == 1) return 0;\n",
        "\tfor (i = row, j = col; i >= 0 && j >= 0; i--, j--)\n",
        "\t\tif (vv[i][j])\n",
        "\t\t\treturn false;\n",
        "\n",
        "\tfor (i = row, j = col; i >= 0 && j >= 0; i--, j--)\n",
        "\t\tif (vv[i][j])\n",
        "\t\t\treturn false;\n",
        "\n",
        "\t/* Check lower diagonal on left side */\n",
        "\tfor (i = row, j = col; j >= 0 && i < n; i++, j--)\n",
        "\t\tif (vv[i][j])\n",
        "\t\t\treturn false;\n",
        "\n",
        "\treturn true;\n",
        "\n",
        "\n",
        "}\n",
        "bool solve(vector<vector<int> >& vv, int col) {\n",
        "\tif (col >= n) return 1;\n",
        "\n",
        "\tfor (int i = 0; i < n; ++i) {\n",
        "\t\tif (isSafe(vv, i, col)) {\n",
        "\t\t\tvv[i][col] = 1;\n",
        "\t\t\tif (solve(vv, col + 1)) return 1;\n",
        "\t\t\tvv[i][col] = 0;\n",
        "\t\t}\n",
        "\t}\n",
        "\treturn false;\n",
        "}\n",
        "\n",
        "int main() {\n",
        "\n",
        "\tint t; cin >> t;\n",
        "\twhile (t--) {\n",
        "\t\tcin >> n;\n",
        "\t\tvector<vector<int> > vv(n, vector<int>(n, 0));\n",
        "\t\tif (solve(vv, 0)){\n",
        "\t\t\tcout << \"Yes\" << endl;\n",
        "\t\t\tfor(int i =0; i  <n; ++i){\n",
        "\t\t\t\tfor(int j=0; j < n; ++j){\n",
        "\t\t\t\t\tcout << vv[i][j] << \"\t\";\n",
        "\t\t\t\t}\n",
        "\t\t\t\tcout << endl;\n",
        "\t\t\t}\n",
        "\t\t}\n",
        "\t\telse\n",
        "\t\t\tcout << \"No\" << endl;\n",
        "\n",
        "\t}\n",
        "\treturn 0;\n",
        "}\n",
        "'''"
      ],
      "execution_count": 9,
      "outputs": []
    },
    {
      "cell_type": "code",
      "metadata": {
        "id": "xRkjxqwW_SU_"
      },
      "source": [
        "text_file = open(\"nqueen.cpp\", \"w\")\n",
        "text_file.write(code)\n",
        "text_file.close()"
      ],
      "execution_count": 10,
      "outputs": []
    },
    {
      "cell_type": "code",
      "metadata": {
        "id": "AS8U8CtB_TE3"
      },
      "source": [
        "!g++ nqueen.cpp"
      ],
      "execution_count": 11,
      "outputs": []
    },
    {
      "cell_type": "code",
      "metadata": {
        "colab": {
          "base_uri": "https://localhost:8080/"
        },
        "id": "qrfgukSy_2Bd",
        "outputId": "2e73ace5-829e-4128-d7e6-7bb0cafff440"
      },
      "source": [
        "!./a.out"
      ],
      "execution_count": 12,
      "outputs": [
        {
          "output_type": "stream",
          "text": [
            "2\n",
            "4\n",
            "Yes\n",
            "0\t0\t1\t0\t\n",
            "1\t0\t0\t0\t\n",
            "0\t0\t0\t1\t\n",
            "0\t1\t0\t0\t\n",
            "8\n",
            "Yes\n",
            "1\t0\t0\t0\t0\t0\t0\t0\t\n",
            "0\t0\t0\t0\t0\t0\t1\t0\t\n",
            "0\t0\t0\t0\t1\t0\t0\t0\t\n",
            "0\t0\t0\t0\t0\t0\t0\t1\t\n",
            "0\t1\t0\t0\t0\t0\t0\t0\t\n",
            "0\t0\t0\t1\t0\t0\t0\t0\t\n",
            "0\t0\t0\t0\t0\t1\t0\t0\t\n",
            "0\t0\t1\t0\t0\t0\t0\t0\t\n"
          ],
          "name": "stdout"
        }
      ]
    }
  ]
}