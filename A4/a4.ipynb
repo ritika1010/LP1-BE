{
  "nbformat": 4,
  "nbformat_minor": 0,
  "metadata": {
    "colab": {
      "name": "BE1_LP1_P1_41101_HPC_H4.ipynb",
      "provenance": []
    },
    "kernelspec": {
      "name": "python3",
      "display_name": "Python 3"
    }
  },
  "cells": [
    {
      "cell_type": "code",
      "metadata": {
        "id": "IuIZEmpFRpok",
        "colab": {
          "base_uri": "https://localhost:8080/",
          "height": 35
        },
        "outputId": "4665d662-5b69-441f-e417-d539b0f21812"
      },
      "source": [
        "%%writefile binary.cpp\n",
        "#include <iostream>\n",
        "#include<mpi/mpi.h>\n",
        "#include<cstdlib>\n",
        "using namespace std;\n",
        "\n",
        "int flag=false;\n",
        "void binarySearch(int *arr,int start, int end,int key,int rank)\n",
        "{\n",
        "\twhile(start<=end)\n",
        "\t{\n",
        "\t\tint mid=(start+end)/2;\n",
        "\t\tif(arr[mid]==key)\n",
        "\t\t{\n",
        "\t\t\tcout<<\"Element is  Found by processor \"<<rank<<\" .\\n\";\n",
        "\t\t\tflag=true;\n",
        "\t\t\treturn;\n",
        "\t\t}\n",
        "\t\telse if(arr[mid]<key)\n",
        "\t\t{\n",
        "\t\t\tstart=mid+1;\n",
        "\t\t}\n",
        "\t\telse\n",
        "\t\t{\n",
        "\t\t\tend=mid-1;\n",
        "\t\t}\n",
        "\t\t//cout<<mid<<endl;\n",
        "\t}\n",
        "}\n",
        "int main(int argc, char **argv) {\n",
        "\tint n=6;\n",
        "\tint *arr=new int[n];\n",
        "\n",
        "\tfor(int i=-3;i<4;i++)\n",
        "\t{\n",
        "\t\tarr[i]=i;\n",
        "\t}\n",
        "\t//cout<<\"here\";\n",
        "\tint key=4; //element to search\n",
        "\tMPI_Init(&argc, &argv);\n",
        "\n",
        "\tint rank,size;\n",
        "\n",
        "\tMPI_Comm_rank(MPI_COMM_WORLD, &rank);\n",
        "\tMPI_Comm_size(MPI_COMM_WORLD, &size);\n",
        "\n",
        "\tcout<<\"Processor rank: \"<<rank<<\"\\nSize : \"<<size<<endl;// rank is process id to search\n",
        "\tint blocks=2;\n",
        "\tint blockSize=n/blocks;\n",
        "\n",
        "\n",
        "\tif(rank==0)\n",
        "\t{\n",
        "\t\tdouble start=MPI_Wtime();\n",
        "\t\tbinarySearch(arr, rank*blockSize, (rank+1)*blockSize-1, key, rank);\n",
        "\t\tdouble end=MPI_Wtime();\n",
        "\t\tcout<<\"Execution time of Processor \"<<rank<<\" is \"<<(end-start)*1000<<endl;\n",
        "\t}\n",
        "\telse if(rank==1)\n",
        "\t{\n",
        "\t\tdouble start=MPI_Wtime();\n",
        "\t\tbinarySearch(arr, rank*blockSize, (rank+1)*blockSize-1, key, rank);\n",
        "\t\tdouble end=MPI_Wtime();\n",
        "\t\tcout<<\"Execution time of Processor \"<<rank<<\" is \"<<(end-start)*1000<<endl;\n",
        "\t}\n",
        "\telse if(rank==2)\n",
        "\t\t{\n",
        "\t\t\tdouble start=MPI_Wtime();\n",
        "\t\t\tbinarySearch(arr, rank*blockSize, (rank+1)*blockSize-1, key, rank);\n",
        "\t\t\tdouble end=MPI_Wtime();\n",
        "\t\t\tcout<<\"Execution time of Processor \"<<rank<<\" is \"<<(end-start)*1000<<endl;\n",
        "\t\t}\n",
        "\telse if(rank==3)\n",
        "\t\t{\n",
        "\t\t\tdouble start=MPI_Wtime();\n",
        "\t\t\tbinarySearch(arr, rank*blockSize, (rank+1)*blockSize-1, key, rank);\n",
        "\t\t\tdouble end=MPI_Wtime();\n",
        "\t\t\tcout<<\"Execution time of Processor \"<<rank<<\" is \"<<(end-start)*1000<<endl;\n",
        "\t\t}\n",
        "\t\t\n",
        "\n",
        "\tMPI_Finalize();\n",
        "\tif(flag==false){\n",
        "\t\t\t\tcout<<\"Element not found!\";\n",
        "\t\t}\n",
        "\n",
        "\treturn 0;\n",
        "}"
      ],
      "execution_count": null,
      "outputs": [
        {
          "output_type": "stream",
          "text": [
            "Overwriting binary.cpp\n"
          ],
          "name": "stdout"
        }
      ]
    },
    {
      "cell_type": "code",
      "metadata": {
        "id": "R3tSe41K1KIY",
        "colab": {
          "base_uri": "https://localhost:8080/",
          "height": 272
        },
        "outputId": "41f01a62-5be9-47ca-ce84-378567bf1b69"
      },
      "source": [
        "!mpiCC binary.cpp\n",
        "!mpirun --allow-run-as-root -np 4 ./a.out"
      ],
      "execution_count": null,
      "outputs": [
        {
          "output_type": "stream",
          "text": [
            "Processor rank: 0\n",
            "Size : 4\n",
            "Element is  Found by processor 0 .\n",
            "Execution time of Processor 0 is 0.004197\n",
            "Processor rank: 3\n",
            "Processor rank: 1\n",
            "Size : 4\n",
            "Execution time of Processor 1 is 0.000356\n",
            "Processor rank: 2\n",
            "Size : 4\n",
            "Execution time of Processor 2 is 0.000487\n",
            "Size : 4\n",
            "Execution time of Processor 3 is 0.000612\n",
            "Element not found!Element not found!Element not found!"
          ],
          "name": "stdout"
        }
      ]
    },
    {
      "cell_type": "code",
      "metadata": {
        "id": "ElvqP-NG2X9_"
      },
      "source": [
        ""
      ],
      "execution_count": null,
      "outputs": []
    },
    {
      "cell_type": "code",
      "metadata": {
        "id": "K-gyffAJ_woA",
        "colab": {
          "base_uri": "https://localhost:8080/",
          "height": 35
        },
        "outputId": "0584861c-f44a-4361-f004-b94c827ed17a"
      },
      "source": [
        "%%writefile bfs.cpp\n",
        "#include<bits/stdc++.h>\n",
        "#include \"omp.h\"\n",
        "\n",
        "#define n_nodes 7\n",
        "\n",
        "using namespace std;\n",
        "list<int>q;\n",
        "vector<int>weight(n_nodes,1000);\n",
        "bool visited[n_nodes];\n",
        "\n",
        "struct Comparator {\n",
        "    // Compare 2 Edges objects using weight\n",
        "    bool operator ()(const int &e1, const int &e2){\n",
        "        return weight[e1]<weight[e2];\n",
        "    }\n",
        "};\n",
        "\n",
        "//Display the list/priority queue - Debugging Function\n",
        "void showlist(list <int> g) { \n",
        "    list <int> :: iterator it; \n",
        "    for(it = g.begin(); it != g.end(); ++it) \n",
        "        cout<<*it<<\" \"; \n",
        "    cout<<endl; \n",
        "}\n",
        "\n",
        "//Display the vector/weights - Debugging Function\n",
        "void showvec(vector <int> g) { \n",
        "    vector <int> :: iterator it; \n",
        "    for(it = g.begin(); it != g.end(); ++it) \n",
        "        cout<<*it<<\" \"; \n",
        "    cout<<endl; \n",
        "}\n",
        "\n",
        "void bfs(int adj_matrix[n_nodes][n_nodes])\n",
        "{\n",
        "\t\tif(q.empty())\n",
        "\t\t\treturn;\n",
        "    q.sort(Comparator());\n",
        "\t\t\n",
        "\t\t//pop first element and display it\n",
        "\t\tint cur_node = q.front();\n",
        "    q.pop_front();\n",
        "\t\tprintf(\"%d, \", cur_node);\n",
        "\t\n",
        "\t\t//For every element in the row of the adjacency matrix\n",
        "\t\t#pragma omp parallel for shared(visited,q,weight)\n",
        "\t\tfor(int i=0; i<n_nodes; i++)\n",
        "\t\t{\n",
        "\t\t\t//If an unvisited Edge exists\n",
        "\t\t\tif(adj_matrix[cur_node][i]>0 && visited[i]==false)\n",
        "\t\t\t{\n",
        "\n",
        "\t\t\t\t//Replace the weight if it is larger\n",
        "        if(weight[i] > adj_matrix[cur_node][i]){\n",
        "            weight[i] = adj_matrix[cur_node][i];\n",
        "        }\n",
        "\n",
        "\t\t\t\t//Push the destination of the smallest edge onto the queue\n",
        "\t\t\t\tq.push_back(i);\n",
        "\t\t\t\tvisited[i]=true;\n",
        "\t\t\t}\n",
        "\t\t}\n",
        "\t\n",
        "\t//Call the function recursively\n",
        "\tbfs(adj_matrix);\n",
        "}\n",
        "\n",
        "int main(){\n",
        "\t\n",
        "\t//Get the maximum number of threads\n",
        "  int th = omp_get_max_threads();\n",
        "  cout<<\"Number of Threads = \"<<th<<endl;\n",
        "\n",
        "\t//Set the Adjacency Matrix\n",
        "\tint adj_matrix[n_nodes][n_nodes] = {\n",
        "\t\t\t\t\t\t\t{0\t,11  ,15  ,0  ,0  ,0  ,0},\n",
        "\t\t\t\t\t\t\t{11\t,0\t,25\t,25\t,0\t,0\t,0},\n",
        "\t\t\t\t\t\t\t{15\t,25\t,0\t,0\t,40\t,0\t,0},\n",
        "\t\t\t\t\t\t\t{0\t,25\t,0\t,0\t,20\t,0\t,0},\n",
        "\t\t\t\t\t\t\t{0\t,0\t,40\t,20\t,0\t,5\t,0},\n",
        "\t\t\t\t\t\t\t{0\t,0\t,0\t,0\t,5\t,0\t,20},\n",
        "\t\t\t\t\t\t\t{0\t,0\t,0\t,0\t,0\t,20\t,0}\n",
        "\t\t\t\t\t\t\t};\n",
        "\t\n",
        "\t//Initialize visited boolean array\n",
        "\tfor(int i=0; i<n_nodes; i++){\n",
        "\t\tvisited[i] = false;\n",
        "\t}\n",
        "\n",
        "\t//Set the start node\n",
        "\tint start_node = 3;\n",
        "\n",
        "\t//Set up the queue, weight and visited\n",
        "\tq.push_back(start_node);\n",
        "    weight[start_node] = 0;\n",
        "\tvisited[start_node] = true;\n",
        "\t\n",
        "\t//Best first Search\n",
        "\tbfs(adj_matrix);\n",
        "\n",
        "\treturn 0;\n",
        "}"
      ],
      "execution_count": null,
      "outputs": [
        {
          "output_type": "stream",
          "text": [
            "Overwriting bfs.cpp\n"
          ],
          "name": "stdout"
        }
      ]
    },
    {
      "cell_type": "code",
      "metadata": {
        "id": "r5YmSC9s7CsZ",
        "colab": {
          "base_uri": "https://localhost:8080/",
          "height": 54
        },
        "outputId": "8569245c-2ecf-4cff-efbd-850821a10f44"
      },
      "source": [
        "!g++ -fopenmp bfs.cpp\n",
        "!./a.out"
      ],
      "execution_count": null,
      "outputs": [
        {
          "output_type": "stream",
          "text": [
            "Number of Threads = 2\n",
            "3, 4, 5, 6, 1, 0, 2, "
          ],
          "name": "stdout"
        }
      ]
    }
  ]
}