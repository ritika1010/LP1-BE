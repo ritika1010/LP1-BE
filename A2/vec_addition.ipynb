{
  "nbformat": 4,
  "nbformat_minor": 0,
  "metadata": {
    "colab": {
      "name": "Untitled1.ipynb",
      "provenance": [],
      "collapsed_sections": []
    },
    "kernelspec": {
      "name": "python3",
      "display_name": "Python 3"
    },
    "accelerator": "GPU"
  },
  "cells": [
    {
      "cell_type": "code",
      "metadata": {
        "id": "gmuLwENRyuGd",
        "colab_type": "code",
        "colab": {
          "base_uri": "https://localhost:8080/",
          "height": 88
        },
        "outputId": "e37ef376-a94e-4f04-c9a8-6d902e726db9"
      },
      "source": [
        "!nvcc --version"
      ],
      "execution_count": 10,
      "outputs": [
        {
          "output_type": "stream",
          "text": [
            "nvcc: NVIDIA (R) Cuda compiler driver\n",
            "Copyright (c) 2005-2018 NVIDIA Corporation\n",
            "Built on Wed_Apr_11_23:16:29_CDT_2018\n",
            "Cuda compilation tools, release 9.2, V9.2.88\n"
          ],
          "name": "stdout"
        }
      ]
    },
    {
      "cell_type": "code",
      "metadata": {
        "id": "4yDjRrvj2c4c",
        "colab_type": "code",
        "colab": {}
      },
      "source": [
        "code = \"\"\"\n",
        "#include<iostream>\n",
        "#include<cstdlib>\n",
        "using namespace std;\n",
        "\n",
        "__global__ void vectorAdd(int *a, int *b, int *result, int n) {\n",
        "    int tid = blockIdx.x*blockDim.x + threadIdx.x;\n",
        "    if(tid <= n) {\n",
        "        result[tid] = a[tid] + b[tid];\n",
        "    }\n",
        "}\n",
        "\n",
        "void print_array(int *a, int N) {\n",
        "    for(int i=0; i<N; i++) {\n",
        "        cout<<\"  \"<<a[i];\n",
        "    }\n",
        "    cout<<endl;\n",
        "}\n",
        "\n",
        "void init_array(int *a, int N) {\n",
        "    for(int i=0; i<N; i++) {\n",
        "        a[i] = rand()%10 + 1;\n",
        "    }\n",
        "}\n",
        "\n",
        "int main() {\n",
        "    int *a, *b, *c;\n",
        "    int *a_dev, *b_dev, *c_dev;\n",
        "    int n = 8;           //24\n",
        "    \n",
        "    a = (int*)malloc(n * sizeof(n));\n",
        "    b = (int*)malloc(n * sizeof(n));\n",
        "    c = (int*)malloc(n * sizeof(n));\n",
        "\n",
        "    int size = n * sizeof(int);\n",
        "    \n",
        "    cudaMalloc(&a_dev, size);\n",
        "    cudaMalloc(&b_dev, size);\n",
        "    cudaMalloc(&c_dev, size);\n",
        "    \n",
        "    init_array(a, n);\n",
        "    init_array(b, n);\n",
        "    \n",
        "    print_array(a, n);\n",
        "    print_array(b, n);\n",
        "        \n",
        "    //cudaEvent_t start, end;\n",
        "    //cudaEventCreate(&start);\n",
        "    //cudaEventCreate(&end);\n",
        "    \n",
        "    cudaMemcpy(a_dev, a, size, cudaMemcpyHostToDevice);\n",
        "    cudaMemcpy(b_dev, b, size, cudaMemcpyHostToDevice);\n",
        "    \n",
        "    //int threads = 1024;\n",
        "    //int blocks = (n+threads-1)/threads;\n",
        "    \n",
        "    //cudaEventRecord(start);\n",
        "    \n",
        "    //vectorAdd<<<blocks,threads>>>(a_dev, b_dev, c_dev, n);\n",
        "    vectorAdd<<<1,1024>>>(a_dev, b_dev, c_dev, n);\n",
        "    \n",
        "    //cudaEventRecord(end);\n",
        "    \n",
        "    //cudaDeviceSynchronize();\n",
        "       \n",
        "    //float time = 0.0;\n",
        "    //cudaEventElapsedTime(&time, start, end);\n",
        "    \n",
        "    cudaMemcpy(c, c_dev, size, cudaMemcpyDeviceToHost);\n",
        "    \n",
        "    cout<<\"Results : \"<<endl;\n",
        "    print_array(c, n);\n",
        " \n",
        "    //cout<<\"Time elapsed : \"<<time<<endl;\n",
        "        \n",
        "    cudaFree(a_dev);\n",
        "    cudaFree(b_dev);\n",
        "    cudaFree(c_dev);\n",
        "        \n",
        "    return 0;\n",
        "}\n",
        "\"\"\""
      ],
      "execution_count": 11,
      "outputs": []
    },
    {
      "cell_type": "code",
      "metadata": {
        "id": "EphrD-HZy-Ln",
        "colab_type": "code",
        "colab": {}
      },
      "source": [
        "text_file = open(\"ass2.cu\", \"w\")\n",
        "text_file.write(code)\n",
        "text_file.close()"
      ],
      "execution_count": 12,
      "outputs": []
    },
    {
      "cell_type": "code",
      "metadata": {
        "id": "UDaubhxbzEqc",
        "colab_type": "code",
        "colab": {}
      },
      "source": [
        "!nvcc ass2.cu"
      ],
      "execution_count": 13,
      "outputs": []
    },
    {
      "cell_type": "code",
      "metadata": {
        "id": "R56yBf0JzHvM",
        "colab_type": "code",
        "colab": {
          "base_uri": "https://localhost:8080/",
          "height": 88
        },
        "outputId": "66797a7a-7223-4de7-be17-0d7e4dbd974f"
      },
      "source": [
        "!./a.out"
      ],
      "execution_count": 14,
      "outputs": [
        {
          "output_type": "stream",
          "text": [
            "  4  7  8  6  4  6  7  3\n",
            "  10  2  3  8  1  10  4  7\n",
            "Results : \n",
            "  14  9  11  14  5  16  11  10\n"
          ],
          "name": "stdout"
        }
      ]
    },
    {
      "cell_type": "code",
      "metadata": {
        "id": "fJbNMGuTzP8O",
        "colab_type": "code",
        "colab": {
          "base_uri": "https://localhost:8080/",
          "height": 388
        },
        "outputId": "2d964b70-7fda-42e7-d3ff-9de36b4861a6"
      },
      "source": [
        "!nvprof ./a.out"
      ],
      "execution_count": 15,
      "outputs": [
        {
          "output_type": "stream",
          "text": [
            "==15363== NVPROF is profiling process 15363, command: ./a.out\n",
            "  4  7  8  6  4  6  7  3\n",
            "  10  2  3  8  1  10  4  7\n",
            "Results : \n",
            "  14  9  11  14  5  16  11  10\n",
            "==15363== Profiling application: ./a.out\n",
            "==15363== Profiling result:\n",
            "            Type  Time(%)      Time     Calls       Avg       Min       Max  Name\n",
            " GPU activities:   42.44%  4.2240us         2  2.1120us  1.7600us  2.4640us  [CUDA memcpy HtoD]\n",
            "                   33.76%  3.3600us         1  3.3600us  3.3600us  3.3600us  vectorAdd(int*, int*, int*, int)\n",
            "                   23.79%  2.3680us         1  2.3680us  2.3680us  2.3680us  [CUDA memcpy DtoH]\n",
            "      API calls:   99.24%  167.41ms         3  55.804ms  5.9250us  167.40ms  cudaMalloc\n",
            "                    0.37%  620.27us         1  620.27us  620.27us  620.27us  cuDeviceTotalMem\n",
            "                    0.18%  309.48us        96  3.2230us     130ns  135.84us  cuDeviceGetAttribute\n",
            "                    0.08%  128.77us         3  42.924us  8.3680us  102.97us  cudaFree\n",
            "                    0.06%  104.43us         1  104.43us  104.43us  104.43us  cudaLaunchKernel\n",
            "                    0.04%  67.089us         3  22.363us  14.680us  26.687us  cudaMemcpy\n",
            "                    0.02%  28.206us         3  9.4020us     158ns  27.125us  cuDeviceGetCount\n",
            "                    0.01%  23.673us         1  23.673us  23.673us  23.673us  cuDeviceGetName\n",
            "                    0.00%  3.2710us         1  3.2710us  3.2710us  3.2710us  cuDeviceGetPCIBusId\n",
            "                    0.00%  1.6960us         2     848ns     453ns  1.2430us  cuDeviceGet\n"
          ],
          "name": "stdout"
        }
      ]
    }
  ]
}