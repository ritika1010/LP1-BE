{
  "nbformat": 4,
  "nbformat_minor": 0,
  "metadata": {
    "colab": {
      "name": "a2.ipynb",
      "provenance": []
    },
    "kernelspec": {
      "name": "python3",
      "display_name": "Python 3"
    },
    "language_info": {
      "name": "python"
    },
    "accelerator": "GPU"
  },
  "cells": [
    {
      "cell_type": "code",
      "metadata": {
        "id": "tiSpH_I6nXFK"
      },
      "source": [
        ""
      ],
      "execution_count": null,
      "outputs": []
    },
    {
      "cell_type": "markdown",
      "metadata": {
        "id": "26criR4onmoO"
      },
      "source": [
        "VECTOR ADDITION"
      ]
    },
    {
      "cell_type": "code",
      "metadata": {
        "colab": {
          "base_uri": "https://localhost:8080/"
        },
        "id": "Ho7ULBXjnj66",
        "outputId": "c63ec8c3-448d-4a31-d5f6-394f1dc1f3b4"
      },
      "source": [
        "!nvcc --version"
      ],
      "execution_count": 1,
      "outputs": [
        {
          "output_type": "stream",
          "text": [
            "nvcc: NVIDIA (R) Cuda compiler driver\n",
            "Copyright (c) 2005-2020 NVIDIA Corporation\n",
            "Built on Wed_Jul_22_19:09:09_PDT_2020\n",
            "Cuda compilation tools, release 11.0, V11.0.221\n",
            "Build cuda_11.0_bu.TC445_37.28845127_0\n"
          ],
          "name": "stdout"
        }
      ]
    },
    {
      "cell_type": "code",
      "metadata": {
        "id": "4yDjRrvj2c4c"
      },
      "source": [
        "code = \"\"\"\n",
        "#include<iostream>\n",
        "#include<cstdlib>\n",
        "using namespace std;\n",
        "\n",
        "__global__ void vectorAdd(int *a, int *b, int *result, int n) {\n",
        "    int tid = blockIdx.x*blockDim.x + threadIdx.x;\n",
        "    if(tid <=n) {\n",
        "        result[tid] = a[tid] + b[tid];\n",
        "    }\n",
        "}\n",
        "\n",
        "void print_array(int *a, int N) {\n",
        "    for(int i=0; i<N; i++) {\n",
        "        cout<<\"  \"<<a[i];\n",
        "    }\n",
        "    cout<<endl;\n",
        "}\n",
        "\n",
        "void init_array(int *a, int N) {\n",
        "    for(int i=0; i<N; i++) {\n",
        "        a[i] = rand()%10 + 1;\n",
        "    }\n",
        "}\n",
        "\n",
        "int main() {\n",
        "    int *a, *b, *c;\n",
        "    int *a_dev, *b_dev, *c_dev;\n",
        "    int n = 8;           //24\n",
        "    \n",
        "    a = (int*)malloc(n * sizeof(n));\n",
        "    b = (int*)malloc(n * sizeof(n));\n",
        "    c = (int*)malloc(n * sizeof(n));\n",
        "\n",
        "    int size = n * sizeof(int);\n",
        "    \n",
        "    cudaMalloc(&a_dev, size);\n",
        "    cudaMalloc(&b_dev, size);\n",
        "    cudaMalloc(&c_dev, size);\n",
        "    \n",
        "    init_array(a, n);\n",
        "    init_array(b, n);\n",
        "    \n",
        "    print_array(a, n);\n",
        "    print_array(b, n);\n",
        "        \n",
        "    \n",
        "    \n",
        "    cudaMemcpy(a_dev, a, size, cudaMemcpyHostToDevice);\n",
        "    cudaMemcpy(b_dev, b, size, cudaMemcpyHostToDevice);\n",
        "    \n",
        "    \n",
        "    vectorAdd<<<1,n>>>(a_dev, b_dev, c_dev, n);\n",
        "    \n",
        "    \n",
        "    \n",
        "    cudaMemcpy(c, c_dev, size, cudaMemcpyDeviceToHost);\n",
        "    \n",
        "    cout<<\"Results : \"<<endl;\n",
        "    print_array(c, n);\n",
        "\n",
        "        \n",
        "    cudaFree(a_dev);\n",
        "    cudaFree(b_dev);\n",
        "    cudaFree(c_dev);\n",
        "        \n",
        "    return 0;\n",
        "}\n",
        "\"\"\""
      ],
      "execution_count": 16,
      "outputs": []
    },
    {
      "cell_type": "code",
      "metadata": {
        "id": "tQqASPjjnj68"
      },
      "source": [
        "text_file = open(\"ass2.cu\", \"w\")\n",
        "text_file.write(code)\n",
        "text_file.close()"
      ],
      "execution_count": 17,
      "outputs": []
    },
    {
      "cell_type": "code",
      "metadata": {
        "id": "sqaUoCCmnj69"
      },
      "source": [
        "!nvcc ass2.cu"
      ],
      "execution_count": 18,
      "outputs": []
    },
    {
      "cell_type": "code",
      "metadata": {
        "colab": {
          "base_uri": "https://localhost:8080/"
        },
        "id": "qvfiLVFvnj69",
        "outputId": "04fb8cc0-8948-4030-f51f-c8aa501fa003"
      },
      "source": [
        "!./a.out"
      ],
      "execution_count": 19,
      "outputs": [
        {
          "output_type": "stream",
          "text": [
            "  4  7  8  6  4  6  7  3\n",
            "  10  2  3  8  1  10  4  7\n",
            "Results : \n",
            "  14  9  11  14  5  16  11  10\n"
          ],
          "name": "stdout"
        }
      ]
    },
    {
      "cell_type": "markdown",
      "metadata": {
        "id": "XzAl81-kn4hH"
      },
      "source": [
        "MATRIX VECTOR MULTIPLICATION"
      ]
    },
    {
      "cell_type": "code",
      "metadata": {
        "colab": {
          "base_uri": "https://localhost:8080/"
        },
        "id": "AOvFKLEWn1Xg",
        "outputId": "e1cd4ce6-ad53-4272-93b3-4611fa8cf536"
      },
      "source": [
        "!nvcc --version"
      ],
      "execution_count": 6,
      "outputs": [
        {
          "output_type": "stream",
          "text": [
            "nvcc: NVIDIA (R) Cuda compiler driver\n",
            "Copyright (c) 2005-2020 NVIDIA Corporation\n",
            "Built on Wed_Jul_22_19:09:09_PDT_2020\n",
            "Cuda compilation tools, release 11.0, V11.0.221\n",
            "Build cuda_11.0_bu.TC445_37.28845127_0\n"
          ],
          "name": "stdout"
        }
      ]
    },
    {
      "cell_type": "code",
      "metadata": {
        "id": "UVzezPkq3xWb"
      },
      "source": [
        "code = \"\"\"#include<iostream>\n",
        "\n",
        "using namespace std;\n",
        "\n",
        "__global__\n",
        "void matrixVector(int *vec, int *mat, int *result, int n, int m)\n",
        "{\n",
        "    int tid = blockIdx.x*blockDim.x + threadIdx.x;\n",
        "    int sum=0;\n",
        "    \n",
        "    if(tid < m) {\n",
        "        for(int i=0; i<n; i++) {\n",
        "            sum += vec[i]*mat[(i*m) + tid];\n",
        "        }\n",
        "        result[tid] = sum;\n",
        "    }\n",
        "}\n",
        "\n",
        "void init_array(int *a, int n) {\n",
        "    for(int i=0; i<n; i++)\n",
        "      a[i] = rand()%n + 1;\n",
        "}\n",
        "\n",
        "void init_matrix(int *a, int n, int m) {\n",
        "    for(int i=0; i<n; i++) {\n",
        "        for(int j=0; j<m; j++) {\n",
        "            a[i*m + j] = rand()%n + 1;\n",
        "        }\n",
        "    }\n",
        "}\n",
        "\n",
        "void print_array(int *a, int n) {\n",
        "    for(int i=0; i<n; i++) {\n",
        "        cout<<\"  \"<<a[i];\n",
        "    }\n",
        "    cout<<endl;\n",
        "}\n",
        "\n",
        "void print_matrix(int *a, int n, int m) {\n",
        "    for(int i=0; i<n; i++) {\n",
        "        for(int j=0; j<m; j++)\n",
        "          cout<<\"  \"<<a[i*m + j];\n",
        "        cout<<endl;\n",
        "    }\n",
        "}\n",
        "\n",
        "int main() {\n",
        "    int *a, *b, *c;\n",
        "    int *a_dev, *b_dev, *c_dev;\n",
        "    \n",
        "    int n = 4;\n",
        "    int m = 5;\n",
        "    \n",
        "    a = new int[n];\n",
        "    b = new int[n*m];\n",
        "    c = new int[m];\n",
        "    \n",
        "    init_array(a, n);\n",
        "    init_matrix(b, n, m);\n",
        "        \n",
        "    cout<<\"Initial array : \"<<endl;\n",
        "    print_array(a, n);\n",
        "    cout<<\"Initial matrix : \"<<endl;\n",
        "    print_matrix(b, n, m);\n",
        "    cout<<\"Initial resultant array : \"<<endl;\n",
        "    print_array(c, m);\n",
        "    cout<<endl;\n",
        "    \n",
        "    cudaMalloc(&a_dev, sizeof(int)*n);\n",
        "    cudaMalloc(&b_dev, sizeof(int)*n*m);\n",
        "    cudaMalloc(&c_dev, sizeof(int)*m);\n",
        "    \n",
        "    cudaMemcpy(a_dev, a, sizeof(int)*n, cudaMemcpyHostToDevice);\n",
        "    cudaMemcpy(b_dev, b, sizeof(int)*n*m, cudaMemcpyHostToDevice);\n",
        "    \n",
        "    matrixVector<<<m, 1>>>(a_dev, b_dev, c_dev, n, m);\n",
        "    \n",
        "    cudaMemcpy(c, c_dev, sizeof(int)*m, cudaMemcpyDeviceToHost);\n",
        "    \n",
        "    cout<<\"Results : \"<<endl;\n",
        "    print_array(c, m);\n",
        "    \n",
        "    cudaFree(a_dev);\n",
        "    cudaFree(b_dev);\n",
        "    cudaFree(c_dev);\n",
        "    \n",
        "    delete[] a;\n",
        "    delete[] b;\n",
        "    delete[] c;\n",
        "    \n",
        "    return 0;\n",
        "}\n",
        "\n",
        "\n",
        "\"\"\""
      ],
      "execution_count": 24,
      "outputs": []
    },
    {
      "cell_type": "code",
      "metadata": {
        "id": "AfxgC6FHn1Xk"
      },
      "source": [
        "text_file = open(\"ass2.cu\", \"w\")\n",
        "text_file.write(code)\n",
        "text_file.close()"
      ],
      "execution_count": 25,
      "outputs": []
    },
    {
      "cell_type": "code",
      "metadata": {
        "id": "r4NKd3IQn1Xl"
      },
      "source": [
        "!nvcc ass2.cu"
      ],
      "execution_count": 26,
      "outputs": []
    },
    {
      "cell_type": "code",
      "metadata": {
        "colab": {
          "base_uri": "https://localhost:8080/"
        },
        "id": "OoWYQ55Yn1Xl",
        "outputId": "5299cdd6-dcd1-4d6f-ff2c-e04d31d1a65d"
      },
      "source": [
        "!./a.out"
      ],
      "execution_count": 27,
      "outputs": [
        {
          "output_type": "stream",
          "text": [
            "Initial array : \n",
            "  4  3  2  4\n",
            "Initial matrix : \n",
            "  2  4  3  1  2\n",
            "  2  3  4  3  4\n",
            "  4  3  1  3  1\n",
            "  1  4  1  4  2\n",
            "Initial resultant array : \n",
            "  0  0  0  0  0\n",
            "\n",
            "Results : \n",
            "  26  47  30  35  30\n"
          ],
          "name": "stdout"
        }
      ]
    },
    {
      "cell_type": "markdown",
      "metadata": {
        "id": "mwHD-KupndhM"
      },
      "source": [
        "MATRIX MULTIPLICATION"
      ]
    },
    {
      "cell_type": "code",
      "metadata": {
        "id": "gmuLwENRyuGd",
        "colab": {
          "base_uri": "https://localhost:8080/"
        },
        "outputId": "8a2bcb2d-682c-44e0-a307-87278b27ceb4"
      },
      "source": [
        "!nvcc --version"
      ],
      "execution_count": 11,
      "outputs": [
        {
          "output_type": "stream",
          "text": [
            "nvcc: NVIDIA (R) Cuda compiler driver\n",
            "Copyright (c) 2005-2020 NVIDIA Corporation\n",
            "Built on Wed_Jul_22_19:09:09_PDT_2020\n",
            "Cuda compilation tools, release 11.0, V11.0.221\n",
            "Build cuda_11.0_bu.TC445_37.28845127_0\n"
          ],
          "name": "stdout"
        }
      ]
    },
    {
      "cell_type": "code",
      "metadata": {
        "id": "J4Wr3a3v08f2"
      },
      "source": [
        "\n",
        "code = \"\"\"\n",
        "#include<iostream>\n",
        "\n",
        "using namespace std;\n",
        "\n",
        "__global__\n",
        "void matrixMultiplication(int *a, int *b, int *c, int m, int n, int k)\n",
        "{\n",
        "    int row = blockIdx.y*blockDim.y + threadIdx.y;\n",
        "    int col = blockIdx.x*blockDim.x + threadIdx.x;\n",
        "    int sum=0;\n",
        "   \n",
        "    if(col<k && row<m) {\n",
        "      for(int j=0;j<n;j++)\n",
        "      {\n",
        "          sum += a[row*n+j] * b[j*k+col];\n",
        "      }\n",
        "      c[k*row+col]=sum;\n",
        "    }\n",
        "    \n",
        "}\n",
        "\n",
        "void init_result(int *a, int m, int k) {\n",
        "    for(int i=0; i<m; i++) {\n",
        "      for(int j=0; j<k; j++) {\n",
        "        a[i*k + j] = 0;\n",
        "      }\n",
        "    }\n",
        "}\n",
        "\n",
        "void init_matrix(int *a, int n, int m) {\n",
        "    for(int i=0; i<n; i++) {\n",
        "      for(int j=0; j<m; j++) {\n",
        "        a[i*m + j] = rand()%10 + 1;\n",
        "      }\n",
        "    }\n",
        "}\n",
        "\n",
        "void print_matrix(int *a, int n, int m) {\n",
        "    for(int i=0; i<n; i++) {\n",
        "      for(int j=0; j<m; j++) {\n",
        "        cout<<\"  \"<<a[i*m + j];\n",
        "      }\n",
        "      cout<<endl;\n",
        "    }\n",
        "    cout<<endl;\n",
        "}\n",
        "\n",
        "int main()\n",
        "{\n",
        "    \n",
        "    int *a,*b,*c;\n",
        "    int *a_dev,*b_dev,*c_dev;\n",
        "    int m=5, n=4, k=3;\n",
        "    \n",
        "    a = new int[m*n];\n",
        "    b = new int[n*k];\n",
        "    c = new int[m*k];\n",
        "    \n",
        "    init_matrix(a, m, n);\n",
        "    init_matrix(b, n ,k);\n",
        "    init_result(c, m, k);\n",
        "    \n",
        "    cout<<\"Initial matrix : \"<<endl;\n",
        "    \n",
        "    print_matrix(a, m, n);\n",
        "    print_matrix(b, n, k);\n",
        "    print_matrix(c, m, k);\n",
        "    \n",
        "    cudaMalloc(&a_dev, sizeof(int)*m*n);\n",
        "    cudaMalloc(&b_dev, sizeof(int)*n*k);\n",
        "    cudaMalloc(&c_dev, sizeof(int)*m*k);\n",
        "       \n",
        "    cudaMemcpy(a_dev, a, sizeof(int)*m*n, cudaMemcpyHostToDevice);\n",
        "    cudaMemcpy(b_dev, b, sizeof(int)*n*k, cudaMemcpyHostToDevice);\n",
        "    \n",
        "    dim3 dimGrid(1,1);\n",
        "    dim3 dimBlock(k,m);\n",
        "    \n",
        "    matrixMultiplication<<<dimGrid, dimBlock>>>(a_dev,b_dev,c_dev, m, n, k);\n",
        "     \n",
        "    cudaMemcpy(c, c_dev, sizeof(int)*m*k, cudaMemcpyDeviceToHost);\n",
        "    \n",
        "    cout<<\"Result : \"<<endl;\n",
        "    print_matrix(c, m, k);\n",
        "    \n",
        "    cudaFree(a_dev);\n",
        "    cudaFree(b_dev);\n",
        "    cudaFree(c_dev);\n",
        "    \n",
        "    delete[] a;\n",
        "    delete[] b;\n",
        "    delete[] c;\n",
        "    \n",
        "        return 0;\n",
        "}\n",
        "\"\"\""
      ],
      "execution_count": 28,
      "outputs": []
    },
    {
      "cell_type": "code",
      "metadata": {
        "id": "EphrD-HZy-Ln"
      },
      "source": [
        "text_file = open(\"ass2.cu\", \"w\")\n",
        "text_file.write(code)\n",
        "text_file.close()"
      ],
      "execution_count": 29,
      "outputs": []
    },
    {
      "cell_type": "code",
      "metadata": {
        "id": "UDaubhxbzEqc"
      },
      "source": [
        "!nvcc ass2.cu"
      ],
      "execution_count": 30,
      "outputs": []
    },
    {
      "cell_type": "code",
      "metadata": {
        "id": "R56yBf0JzHvM",
        "colab": {
          "base_uri": "https://localhost:8080/"
        },
        "outputId": "65307b75-a7bc-4c83-ba2a-59e5b1e6decd"
      },
      "source": [
        "!./a.out"
      ],
      "execution_count": 31,
      "outputs": [
        {
          "output_type": "stream",
          "text": [
            "Initial matrix : \n",
            "  4  7  8  6\n",
            "  4  6  7  3\n",
            "  10  2  3  8\n",
            "  1  10  4  7\n",
            "  1  7  3  7\n",
            "\n",
            "  2  9  8\n",
            "  10  3  1\n",
            "  3  4  8\n",
            "  6  10  3\n",
            "\n",
            "  0  0  0\n",
            "  0  0  0\n",
            "  0  0  0\n",
            "  0  0  0\n",
            "  0  0  0\n",
            "\n",
            "Result : \n",
            "  138  149  121\n",
            "  107  112  103\n",
            "  97  188  130\n",
            "  156  125  71\n",
            "  123  112  60\n",
            "\n"
          ],
          "name": "stdout"
        }
      ]
    }
  ]
}