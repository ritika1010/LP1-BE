{
  "nbformat": 4,
  "nbformat_minor": 0,
  "metadata": {
    "colab": {
      "name": "HPC_mini_project.ipynb",
      "provenance": []
    },
    "kernelspec": {
      "display_name": "Python 3",
      "name": "python3"
    }
  },
  "cells": [
    {
      "cell_type": "code",
      "metadata": {
        "id": "cXAR2-5TpgTX",
        "colab": {
          "base_uri": "https://localhost:8080/"
        },
        "outputId": "e42b38cb-f0db-482d-9c71-af2e64423302"
      },
      "source": [
        "%%writefile code1.cpp\n",
        "#include<iostream>\n",
        "#include<climits>     /*Used for INT_MAX*/\n",
        "using namespace std;\n",
        "#define vertex 6     /*It is the total no of verteices in the graph*/\n",
        "int minimumDist(int dist[], bool Dset[])   /*A method to find the vertex with minimum distance which is not yet included in Dset*/\n",
        "{\n",
        "\tint min=INT_MAX,index;                 /*initialize min with the maximum possible value as infinity does not exist */\n",
        "\tfor(int v=0;v<vertex;v++)\n",
        "\t{\n",
        "\t\tif(Dset[v]==false && dist[v]<=min)      \n",
        "\t\t{\n",
        "\t\t\tmin=dist[v];\n",
        "\t\t\tindex=v;\n",
        "\t\t}\n",
        "\t}\n",
        "\treturn index;\n",
        "}\n",
        "void dijkstra(int graph[vertex][vertex],int src) /*Method to implement shortest path algorithm*/\n",
        "{\n",
        "\tint dist[vertex];                             \n",
        "\tbool Dset[vertex];\n",
        "\tfor(int i=0;i<vertex;i++)                    /*Initialize distance of all the vertex to INFINITY and Dset as false*/  \n",
        "\t{\n",
        "\t\tdist[i]=INT_MAX;\n",
        "\t\tDset[i]=false;\t\n",
        "\t}\n",
        "\tdist[src]=0;                                   /*Initialize the distance of the source vertec to zero*/\n",
        "\tfor(int c=0;c<vertex;c++)                           \n",
        "\t{\n",
        "\t\tint u=minimumDist(dist,Dset);              /*u is any vertex that is not yet included in Dset and has minimum distance*/\n",
        "\t\tDset[u]=true;                              /*If the vertex with minimum distance found include it to Dset*/ \n",
        "\t\tfor(int v=0;v<vertex;v++)                  \n",
        "\t\t/*Update dist[v] if not in Dset and their is a path from src to v through u that has distance minimum than current value of dist[v]*/\n",
        "\t\t{\n",
        "\t\t\tif(!Dset[v] && graph[u][v] && dist[u]!=INT_MAX && dist[u]+graph[u][v]<dist[v])\n",
        "\t\t\tdist[v]=dist[u]+graph[u][v];\n",
        "\t\t}\n",
        "\t}\n",
        "\tcout<<\"Vertex\\t\\tDistance from source\"<<endl;\n",
        "\tfor(int i=0;i<vertex;i++)                       /*will print the vertex with their distance from the source to the console */\n",
        "\t{\n",
        "\t\tchar c=65+i;\n",
        "\t\tcout<<c<<\"\\t\\t\"<<dist[i]<<endl;\n",
        "\t}\n",
        "}\n",
        "int main()\n",
        "{\n",
        "\t\n",
        "\tint graph[vertex][vertex]={{0,40,15,0,0,0},{0,0,20,10,25,6},{0,0,0,100,0,0},{0,0,0,0,0,0},{0,0,0,0,0,8},{0,0,0,0,0,0}};\n",
        "\tdijkstra(graph,0);\t\n",
        "\treturn 0;\t                        \n",
        "}"
      ],
      "execution_count": 45,
      "outputs": [
        {
          "output_type": "stream",
          "text": [
            "Overwriting code1.cpp\n"
          ],
          "name": "stdout"
        }
      ]
    },
    {
      "cell_type": "code",
      "metadata": {
        "id": "esmkjbsmE891"
      },
      "source": [
        "!g++  code1.cpp"
      ],
      "execution_count": 46,
      "outputs": []
    },
    {
      "cell_type": "code",
      "metadata": {
        "colab": {
          "base_uri": "https://localhost:8080/"
        },
        "id": "ZgqgOVgoE-98",
        "outputId": "f1b9098e-5148-4653-b7c2-3d74def6bbbf"
      },
      "source": [
        "!./a.out"
      ],
      "execution_count": 47,
      "outputs": [
        {
          "output_type": "stream",
          "text": [
            "Vertex\t\tDistance from source\n",
            "A\t\t0\n",
            "B\t\t40\n",
            "C\t\t15\n",
            "D\t\t50\n",
            "E\t\t65\n",
            "F\t\t46\n"
          ],
          "name": "stdout"
        }
      ]
    },
    {
      "cell_type": "code",
      "metadata": {
        "colab": {
          "base_uri": "https://localhost:8080/"
        },
        "id": "EYVSrLMGKx1M",
        "outputId": "08bcb847-ac75-4903-fd94-574b247b0d25"
      },
      "source": [
        "%%writefile codes.cpp\n",
        "#include <stdio.h>\n",
        "#include <omp.h>\n",
        "#include<algorithm>\n",
        "\n",
        "#define INFINITY 100000\n",
        "int V,E;\n",
        "\n",
        "//Structure for vertex\n",
        "typedef struct \n",
        "{\n",
        "\tint label;\n",
        "\tbool visited;\t\n",
        "\n",
        "} Vertex;\n",
        "\n",
        "//Structure for directed edge from u to v\n",
        "typedef struct\n",
        "{\n",
        "\tint u;\n",
        "\tint v;\n",
        "\n",
        "} Edge;\n",
        "\n",
        "//Printing Shortest Path Length\n",
        "void printShortestPathLength(int *path_length)\n",
        "{\n",
        "\tprintf(\"\\nVERTEX \\tSHORTEST PATH LENGTH \\n\");\n",
        "\tint i;\n",
        "\tfor(i = 0; i < V; i++)\n",
        "\t{\n",
        "\t\tprintf(\"%d \\t\",i);\n",
        "\t\tif (path_length[i]<INFINITY)\n",
        "\t\t\tprintf(\"%d\\n\",path_length[i]);\n",
        "\t\telse\n",
        "\t\t\tprintf(\"Infinity\\n\");\n",
        "\t}\n",
        "}\n",
        "\n",
        "\n",
        "//Finds weight of the edge that connects Vertex u with Vertex v\n",
        "int findEdgeWeight(Vertex u, Vertex v, Edge *edges, int *weights)\n",
        "{\n",
        "\n",
        "\tint i;\n",
        "\tfor(i = 0; i < E; i++)\n",
        "\t{\n",
        "\n",
        "\t\tif(edges[i].u == u.label && edges[i].v == v.label)\n",
        "\t\t{\n",
        "\t\t\treturn weights[i];\n",
        "\t\t}\n",
        "\t}\n",
        "\t// If no edge exists, weight is infinity\n",
        "\treturn INFINITY;\n",
        "}\n",
        "\n",
        "//Get the minimum path length among the paths\n",
        "int minimimPathLength(int *path_length, Vertex *vertices)\n",
        "{\n",
        "\tint i;\n",
        "\tint min_path_length = INFINITY;\n",
        "\tfor(i = 0; i < V; i++)\n",
        "\t{\n",
        "\t\tif(vertices[i].visited == true)\n",
        "\t\t{\n",
        "\t\t\tcontinue;\n",
        "\t\t}\n",
        "\t\t\n",
        "\t\telse if(vertices[i].visited == false && path_length[i] < min_path_length)\n",
        "\t\t{\n",
        "\t\t\tmin_path_length = path_length[i];\n",
        "\t\t\t\n",
        "\t\t}\n",
        "\t\t\n",
        "\t}\n",
        "\treturn min_path_length;\n",
        "}\n",
        "\n",
        "int minimimPathVertex(Vertex *vertices, int *path_length)\n",
        "{\n",
        "\tint i;\n",
        "\tint min_path_length = minimimPathLength(path_length, vertices);\n",
        "\t\n",
        "\t//Get the vertex with the minimum path length\n",
        "\t//Mark it as visited\n",
        "\tfor(i = 0; i < V; i++)\n",
        "\t{\n",
        "\t\tif(vertices[i].visited == false && path_length[vertices[i].label] == min_path_length)\n",
        "\t\t{\n",
        "\t\t\tvertices[i].visited = true;\n",
        "\t\t\treturn i;\n",
        "\t\t}\n",
        "\t}\n",
        "}\n",
        "\n",
        "// Dijkstra Algorithm\n",
        "void Dijkstra_Parallel(Vertex *vertices, Edge *edges, int *weights, Vertex *root)\n",
        "{\t\n",
        "\n",
        "\tdouble parallel_start, parallel_end;\n",
        "\tint path_length[V];\n",
        "\n",
        "\t// Mark first vertex as visited, shortest path = 0\n",
        "\troot->visited = true;\n",
        "\tpath_length[root->label] = 0;\n",
        "\tint i, j;\n",
        "\t// Compute distance to other vertices\n",
        "\tfor(i = 0; i < V;i++)\n",
        "\t{\n",
        "\n",
        "\t\tif(vertices[i].label != root->label)\n",
        "\t\t{\n",
        "\t\t\tpath_length[vertices[i].label] = findEdgeWeight(*root, vertices[i], edges, weights);\n",
        "\t\t}\n",
        "\t\telse\n",
        "\t\t{\n",
        "\t\t\n",
        "\t\t\tvertices[i].visited = true;\n",
        "\t\t}\n",
        "\t}\n",
        "\t\n",
        "\tparallel_start = omp_get_wtime();\n",
        "\t// External For Loop\n",
        "\tfor(j = 0; j < V; j++)\n",
        "\t{\n",
        "\t\tVertex u;\n",
        "\t\t// Obtain the vertex which has shortest distance and mark it as visited\n",
        "\t\tint h = minimimPathVertex(vertices, path_length);\n",
        "\t\tu = vertices[h];\t\n",
        "\n",
        "\t\t//Update shortest path wrt new source \n",
        "\t\t//Internal For Loop, Parallelising the computation\n",
        "\t\t#pragma omp parallel for schedule(static) private(i)\n",
        "\t\tfor(i = 0; i < V; i++)\n",
        "\t\t{\n",
        "\t\t\tif(vertices[i].visited == false)\n",
        "\t\t\t{\t\n",
        "\t\t\t\tint c = findEdgeWeight( u, vertices[i], edges, weights);\n",
        "\t\t\t\tpath_length[vertices[i].label] = std::min(path_length[vertices[i].label], path_length[u.label] + c);\n",
        "\t\t\t}\n",
        "\t\t}\n",
        "\t}\n",
        "\tparallel_end = omp_get_wtime();\n",
        "\tprintShortestPathLength(path_length);\n",
        "\tprintf(\"\\nRunning time: %lf ms\\n\", (parallel_end - parallel_start)*1000);\n",
        "}\n",
        "\n",
        "int main()\n",
        "{\n",
        "\tprintf(\"==========PARALLEL IMPLEMENTATION OF DIJKSTRA ALGORITHM==========\\n\");\n",
        "\tprintf(\"Enter number of vertices: \");\n",
        "\tscanf(\"%d\",&V);\n",
        "\tprintf(\"Enter number of edges: \");\n",
        "\tscanf(\"%d\",&E);\n",
        "\tVertex vertices[V];\n",
        "\tEdge edges[E];\n",
        "\tint weights[E];\n",
        "\n",
        "\tint i;\n",
        "\tfor(i = 0; i < V; i++)\n",
        "\t{\n",
        "\t\tVertex a = { .label =i , .visited=false};\n",
        "\t\tvertices[i] = a;\n",
        "\t}\n",
        "\n",
        "\tprintf(\"\\nEnter these details \\nFROM \\tTO \\tWEIGHT\\n\");\n",
        "\tint from,to,weight;\n",
        "\tfor(i = 0; i < E; i++)\n",
        "\t{\n",
        "\t\tscanf(\"%d %d %d\",&from,&to,&weight);\n",
        "\t\tEdge e = {.u = from , .v = to};\n",
        "\t\tedges[i] = e;\n",
        "\t\tweights[i] = weight;\n",
        "\t}\n",
        "\n",
        "\tint source;\n",
        "\tprintf(\"\\nEnter Source Vertex: \");\n",
        "\tscanf(\"%d\",&source);\n",
        "\tVertex root = {source, false};\n",
        "\n",
        "\tDijkstra_Parallel(vertices, edges, weights, &root);\n",
        "\n",
        "\treturn 0;\n",
        "}"
      ],
      "execution_count": 48,
      "outputs": [
        {
          "output_type": "stream",
          "text": [
            "Overwriting codes.cpp\n"
          ],
          "name": "stdout"
        }
      ]
    },
    {
      "cell_type": "code",
      "metadata": {
        "id": "4mfMEatXNXka"
      },
      "source": [
        "!g++ -fopenmp codes.cpp"
      ],
      "execution_count": 49,
      "outputs": []
    },
    {
      "cell_type": "code",
      "metadata": {
        "colab": {
          "base_uri": "https://localhost:8080/"
        },
        "id": "UnVMujWONcOR",
        "outputId": "c81705c0-7a9a-4c85-c105-5d78dbcd5d45"
      },
      "source": [
        "!./a.out"
      ],
      "execution_count": 50,
      "outputs": [
        {
          "output_type": "stream",
          "text": [
            "==========PARALLEL IMPLEMENTATION OF DIJKSTRA ALGORITHM==========\n",
            "Enter number of vertices: 6\n",
            "Enter number of edges: 8\n",
            "\n",
            "Enter these details \n",
            "FROM \tTO \tWEIGHT\n",
            "0 1 40\n",
            "0 2 15\n",
            "1 2 20\n",
            "1 3 10\n",
            "1 4 25\n",
            "2 3 100\n",
            "1 5 6\n",
            "4 5 8\n",
            "\n",
            "Enter Source Vertex: 0\n",
            "\n",
            "VERTEX \tSHORTEST PATH LENGTH \n",
            "0 \t0\n",
            "1 \t40\n",
            "2 \t15\n",
            "3 \t50\n",
            "4 \t65\n",
            "5 \t46\n",
            "\n",
            "Running time: 0.154631 ms\n"
          ],
          "name": "stdout"
        }
      ]
    },
    {
      "cell_type": "code",
      "metadata": {
        "id": "gGt1SAT4N7ca"
      },
      "source": [
        "66"
      ],
      "execution_count": null,
      "outputs": []
    }
  ]
}